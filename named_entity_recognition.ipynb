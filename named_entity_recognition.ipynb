{
 "cells": [
  {
   "cell_type": "markdown",
   "id": "839b81d2-bfc0-4861-8442-3b2dc4b53ef2",
   "metadata": {},
   "source": [
    "# Named Entity Recognition\n",
    "\n",
    "## NLTK"
   ]
  },
  {
   "cell_type": "code",
   "execution_count": 6,
   "id": "8ddbdd9c-94a8-4a15-a8cc-2348ad6d0751",
   "metadata": {
    "tags": []
   },
   "outputs": [],
   "source": [
    "sample_text_lst =['The COVID-19 pandemic exposed the feeble state of Japan’s vaccine research and development capabilities.',\n",
    "                  'Only now, for example, are Japanese regulators considering approval of the country’s first homegrown COVID-19 vaccines,',\n",
    "                  'months after many less advanced nations developed their own shots.',\n",
    "                  'Determined to catch up, Japan is ramping up a 1.1 trillion yen ($8.5 billion) initiative that aims to give Japan the capability to develop a vaccine for a new virus in 100 days,',\n",
    "                  'a goal being adopted by many countries.']"
   ]
  },
  {
   "cell_type": "code",
   "execution_count": 56,
   "id": "892edc7e-567e-4e00-a4c3-7601adaa3fa2",
   "metadata": {
    "tags": []
   },
   "outputs": [
    {
     "name": "stderr",
     "output_type": "stream",
     "text": [
      "[nltk_data] Downloading package averaged_perceptron_tagger to\n",
      "[nltk_data]     /home/mn/nltk_data...\n",
      "[nltk_data]   Package averaged_perceptron_tagger is already up-to-\n",
      "[nltk_data]       date!\n",
      "[nltk_data] Downloading package maxent_ne_chunker to\n",
      "[nltk_data]     /home/mn/nltk_data...\n",
      "[nltk_data]   Package maxent_ne_chunker is already up-to-date!\n",
      "[nltk_data] Downloading package words to /home/mn/nltk_data...\n",
      "[nltk_data]   Package words is already up-to-date!\n"
     ]
    },
    {
     "name": "stdout",
     "output_type": "stream",
     "text": [
      "[[('The', 'DT'), ('COVID-19', 'NNP'), ('pandemic', 'NN'), ('exposed', 'VBD'), ('the', 'DT'), ('feeble', 'JJ'), ('state', 'NN'), ('of', 'IN'), ('Japan', 'NNP'), ('’', 'NNP'), ('s', 'VBP'), ('vaccine', 'NN'), ('research', 'NN'), ('and', 'CC'), ('development', 'NN'), ('capabilities', 'NNS'), ('.', '.')], [('Only', 'RB'), ('now', 'RB'), (',', ','), ('for', 'IN'), ('example', 'NN'), (',', ','), ('are', 'VBP'), ('Japanese', 'JJ'), ('regulators', 'NNS'), ('considering', 'VBG'), ('approval', 'NN'), ('of', 'IN'), ('the', 'DT'), ('country', 'NN'), ('’', 'NNP'), ('s', 'VBD'), ('first', 'JJ'), ('homegrown', 'JJ'), ('COVID-19', 'NNP'), ('vaccines', 'NNS'), (',', ',')], [('months', 'NNS'), ('after', 'IN'), ('many', 'JJ'), ('less', 'JJR'), ('advanced', 'JJ'), ('nations', 'NNS'), ('developed', 'VBD'), ('their', 'PRP$'), ('own', 'JJ'), ('shots', 'NNS'), ('.', '.')], [('Determined', 'VBN'), ('to', 'TO'), ('catch', 'VB'), ('up', 'RP'), (',', ','), ('Japan', 'NNP'), ('is', 'VBZ'), ('ramping', 'VBG'), ('up', 'RP'), ('a', 'DT'), ('1.1', 'CD'), ('trillion', 'CD'), ('yen', 'NNS'), ('(', '('), ('$', '$'), ('8.5', 'CD'), ('billion', 'CD'), (')', ')'), ('initiative', 'NN'), ('that', 'WDT'), ('aims', 'VBZ'), ('to', 'TO'), ('give', 'VB'), ('Japan', 'NNP'), ('the', 'DT'), ('capability', 'NN'), ('to', 'TO'), ('develop', 'VB'), ('a', 'DT'), ('vaccine', 'NN'), ('for', 'IN'), ('a', 'DT'), ('new', 'JJ'), ('virus', 'NN'), ('in', 'IN'), ('100', 'CD'), ('days', 'NNS'), (',', ',')], [('a', 'DT'), ('goal', 'NN'), ('being', 'VBG'), ('adopted', 'VBN'), ('by', 'IN'), ('many', 'JJ'), ('countries', 'NNS'), ('.', '.')]]\n"
     ]
    }
   ],
   "source": [
    "import nltk\n",
    "nltk.download('averaged_perceptron_tagger')\n",
    "nltk.download('maxent_ne_chunker')\n",
    "nltk.download('words')\n",
    "\n",
    "from matplotlib import pyplot as plt\n",
    "\n",
    "\n",
    "token_sents = [nltk.word_tokenize(sent) for sent in sample_text_lst]\n",
    "tagged_sent = [nltk.pos_tag(lst) for lst in token_sents]\n",
    "print(tagged_sent)"
   ]
  },
  {
   "cell_type": "code",
   "execution_count": 53,
   "id": "5608bfd0-bf1a-4722-9578-9b8105cef244",
   "metadata": {
    "tags": []
   },
   "outputs": [],
   "source": [
    "words_lst=[]\n",
    "tags_lst =[]\n",
    "for lst in tagged_sent:\n",
    "    for word, tag in lst:\n",
    "        words_lst.append(word)\n",
    "        tags_lst.append(tag)\n",
    "        "
   ]
  },
  {
   "cell_type": "code",
   "execution_count": 59,
   "id": "2c82f10e-5044-49d4-830f-1003eeb9ed92",
   "metadata": {
    "tags": []
   },
   "outputs": [
    {
     "data": {
      "text/plain": [
       "Counter({'DT': 8,\n",
       "         'NNP': 7,\n",
       "         'NN': 13,\n",
       "         'VBD': 3,\n",
       "         'JJ': 9,\n",
       "         'IN': 7,\n",
       "         'VBP': 2,\n",
       "         'CC': 1,\n",
       "         'NNS': 9,\n",
       "         '.': 3,\n",
       "         'RB': 2,\n",
       "         ',': 5,\n",
       "         'VBG': 3,\n",
       "         'JJR': 1,\n",
       "         'PRP$': 1,\n",
       "         'VBN': 2,\n",
       "         'TO': 3,\n",
       "         'VB': 3,\n",
       "         'RP': 2,\n",
       "         'VBZ': 2,\n",
       "         'CD': 5,\n",
       "         '(': 1,\n",
       "         '$': 1,\n",
       "         ')': 1,\n",
       "         'WDT': 1})"
      ]
     },
     "execution_count": 59,
     "metadata": {},
     "output_type": "execute_result"
    }
   ],
   "source": [
    "from collections import Counter\n",
    "tag_dic = Counter(tags_lst)\n",
    "tag_dic"
   ]
  },
  {
   "cell_type": "code",
   "execution_count": 63,
   "id": "f5cb99ee-df48-4929-bb61-a1763d5e22ca",
   "metadata": {
    "tags": []
   },
   "outputs": [
    {
     "data": {
      "text/plain": [
       "([<matplotlib.patches.Wedge at 0x7fe878078880>,\n",
       "  <matplotlib.patches.Wedge at 0x7fe878078f10>,\n",
       "  <matplotlib.patches.Wedge at 0x7fe8780795a0>,\n",
       "  <matplotlib.patches.Wedge at 0x7fe878079c30>,\n",
       "  <matplotlib.patches.Wedge at 0x7fe87807a2c0>,\n",
       "  <matplotlib.patches.Wedge at 0x7fe87807a950>,\n",
       "  <matplotlib.patches.Wedge at 0x7fe87807afe0>,\n",
       "  <matplotlib.patches.Wedge at 0x7fe87807b670>,\n",
       "  <matplotlib.patches.Wedge at 0x7fe87807bd00>,\n",
       "  <matplotlib.patches.Wedge at 0x7fe87809c3d0>,\n",
       "  <matplotlib.patches.Wedge at 0x7fe878078850>,\n",
       "  <matplotlib.patches.Wedge at 0x7fe87809d0c0>,\n",
       "  <matplotlib.patches.Wedge at 0x7fe87809d750>,\n",
       "  <matplotlib.patches.Wedge at 0x7fe87809dde0>,\n",
       "  <matplotlib.patches.Wedge at 0x7fe87809e470>,\n",
       "  <matplotlib.patches.Wedge at 0x7fe87809eb00>,\n",
       "  <matplotlib.patches.Wedge at 0x7fe87809f190>,\n",
       "  <matplotlib.patches.Wedge at 0x7fe87809f820>,\n",
       "  <matplotlib.patches.Wedge at 0x7fe87809feb0>,\n",
       "  <matplotlib.patches.Wedge at 0x7fe8780c8580>,\n",
       "  <matplotlib.patches.Wedge at 0x7fe8780c8c10>,\n",
       "  <matplotlib.patches.Wedge at 0x7fe8780c92a0>,\n",
       "  <matplotlib.patches.Wedge at 0x7fe8780c9930>,\n",
       "  <matplotlib.patches.Wedge at 0x7fe8780c9fc0>,\n",
       "  <matplotlib.patches.Wedge at 0x7fe8780ca650>],\n",
       " [Text(-0.9982158924706115, 0.4621309684700872, 'DT'),\n",
       "  Text(-1.097854704896322, -0.06866619937793123, 'NNP'),\n",
       "  Text(-0.8241859819370945, -0.728503580758796, 'NN'),\n",
       "  Text(-0.3437604017393543, -1.0449061135795876, 'VBD'),\n",
       "  Text(0.08680865400486018, -1.0965693127157374, 'JJ'),\n",
       "  Text(0.6284485313020715, -0.9028025495667752, 'IN'),\n",
       "  Text(0.8655661609273352, -0.6788189899063776, 'VBP'),\n",
       "  Text(0.9285440770662119, -0.5897507074563428, 'CC'),\n",
       "  Text(1.069724741573647, -0.25629860956547174, 'NNS'),\n",
       "  Text(1.0856553685490975, 0.17706614792366018, '.'),\n",
       "  Text(1.041704313862872, 0.3533441983102069, 'RB'),\n",
       "  Text(0.9328529016788625, 0.5829111972070248, ','),\n",
       "  Text(0.7479783475495904, 0.8065534028178075, 'VBG'),\n",
       "  Text(0.6350659811254691, 0.8981598964645134, 'JJR'),\n",
       "  Text(0.5743175751165606, 0.9381680675189462, 'PRP$'),\n",
       "  Text(0.47857224170860907, 0.9904385944953866, 'VBN'),\n",
       "  Text(0.30902430414432136, 1.0557007054312875, 'TO'),\n",
       "  Text(0.09486465532864694, 1.095901773504075, 'VB'),\n",
       "  Text(-0.08680867967191691, 1.096569310683834, 'RP'),\n",
       "  Text(-0.2306792385726137, 1.075540370647034, 'VBZ'),\n",
       "  Text(-0.4712809303787124, 0.9939287120620751, 'CD'),\n",
       "  Text(-0.6579546579973516, 0.8815302989798979, '('),\n",
       "  Text(-0.7147769787713071, 0.8361183352962441, '$'),\n",
       "  Text(-0.7684737614154962, 0.7870502385590892, ')'),\n",
       "  Text(-0.8188102035417809, 0.7345405710890771, 'WDT')],\n",
       " [Text(-0.5444813958930608, 0.2520714373473203, '8.4%'),\n",
       "  Text(-0.5988298390343574, -0.03745429056978067, '7.4%'),\n",
       "  Text(-0.4495559901475061, -0.3973655895047977, '13.7%'),\n",
       "  Text(-0.1875056736760114, -0.5699487892252295, '3.2%'),\n",
       "  Text(0.04735017491174191, -0.5981287160267658, '9.5%'),\n",
       "  Text(0.34279010798294807, -0.49243775430915004, '7.4%'),\n",
       "  Text(0.4721269968694555, -0.3702649035852968, '2.1%'),\n",
       "  Text(0.506478587490661, -0.321682204067096, '1.1%'),\n",
       "  Text(0.5834862226765347, -0.13979924158116638, '9.5%'),\n",
       "  Text(0.592175655572235, 0.09658153523108735, '3.2%'),\n",
       "  Text(0.568202353016112, 0.19273319907829464, '2.1%'),\n",
       "  Text(0.5088288554611976, 0.3179515621129226, '5.3%'),\n",
       "  Text(0.40798818957250377, 0.43993821971880404, '3.2%'),\n",
       "  Text(0.3463996260684376, 0.48990539807155276, '1.1%'),\n",
       "  Text(0.3132641318817603, 0.5117280368285161, '1.1%'),\n",
       "  Text(0.2610394045683322, 0.5402392333611199, '2.1%'),\n",
       "  Text(0.16855871135144798, 0.5758367484170659, '3.2%'),\n",
       "  Text(0.05174435745198923, 0.5977646037294955, '3.2%'),\n",
       "  Text(-0.04735018891195467, 0.5981287149184548, '2.1%'),\n",
       "  Text(-0.12582503922142563, 0.5866583839892912, '2.1%'),\n",
       "  Text(-0.2570623256611158, 0.5421429338520409, '5.3%'),\n",
       "  Text(-0.3588843589076463, 0.4808347085344897, '1.1%'),\n",
       "  Text(-0.38987835205707655, 0.456064546525224, '1.1%'),\n",
       "  Text(-0.41916750622663423, 0.42930013012313956, '1.1%'),\n",
       "  Text(-0.4466237473864259, 0.40065849332131476, '1.1%')])"
      ]
     },
     "execution_count": 63,
     "metadata": {},
     "output_type": "execute_result"
    },
    {
     "data": {
      "image/png": "[encoded data removed]",
      "text/plain": [
       "<Figure size 640x480 with 1 Axes>"
      ]
     },
     "metadata": {},
     "output_type": "display_data"
    }
   ],
   "source": [
    "labels=[]\n",
    "counts=[]\n",
    "for k, v in tag_dic.items():\n",
    "    labels.append(k)\n",
    "    counts.append(v)\n",
    "\n",
    "plt.pie(counts, labels=labels, autopct='%1.1f%%', startangle=140)"
   ]
  },
  {
   "cell_type": "code",
   "execution_count": 34,
   "id": "543f8b62-ef8d-4c5c-9ed8-4865a578c790",
   "metadata": {
    "tags": []
   },
   "outputs": [
    {
     "data": {
      "text/plain": [
       "[<generator object ParserI.parse_sents.<locals>.<genexpr> at 0x7fe87ee1f990>,\n",
       " <generator object ParserI.parse_sents.<locals>.<genexpr> at 0x7fe87ee1f840>,\n",
       " <generator object ParserI.parse_sents.<locals>.<genexpr> at 0x7fe87ee1f920>,\n",
       " <generator object ParserI.parse_sents.<locals>.<genexpr> at 0x7fe87ee1f610>,\n",
       " <generator object ParserI.parse_sents.<locals>.<genexpr> at 0x7fe87ee1fa00>]"
      ]
     },
     "execution_count": 34,
     "metadata": {},
     "output_type": "execute_result"
    }
   ],
   "source": [
    "chunked_sents = [nltk.ne_chunk_sents(lst, binary=True) for lst in tagged_sent]\n",
    "chunked_sents"
   ]
  },
  {
   "cell_type": "markdown",
   "id": "9e6c7a2e-1c84-4e07-8c97-b250e5752e3f",
   "metadata": {
    "tags": []
   },
   "source": [
    "## SpaCy"
   ]
  },
  {
   "cell_type": "code",
   "execution_count": 65,
   "id": "dbfc91ff-3b4b-4c31-9167-5d4965311de3",
   "metadata": {
    "tags": []
   },
   "outputs": [
    {
     "name": "stdout",
     "output_type": "stream",
     "text": [
      "ORG COVID-19\n",
      "GPE Japan\n",
      "NORP Japanese\n",
      "ORDINAL first\n",
      "ORG COVID-19\n",
      "DATE months\n",
      "GPE Japan\n",
      "MONEY 1.1 trillion yen\n",
      "MONEY $8.5 billion\n",
      "GPE Japan\n",
      "DATE 100 days\n"
     ]
    }
   ],
   "source": [
    "import spacy\n",
    "\n",
    "nlp = spacy.load('en_core_web_sm')\n",
    "\n",
    "sample_text2 = ' '.join(sample_text_lst)\n",
    "\n",
    "doc = nlp(sample_text2)\n",
    "\n",
    "for ent in doc.ents:\n",
    "    print(ent.label_, ent.text)"
   ]
  },
  {
   "cell_type": "markdown",
   "id": "f97734df-be72-4097-8f25-1177f32ca7b0",
   "metadata": {},
   "source": [
    "## Polyglot"
   ]
  },
  {
   "cell_type": "code",
   "execution_count": 70,
   "id": "fefc4990-f888-4ad1-9b2a-d2cb5a6ee6b5",
   "metadata": {
    "tags": []
   },
   "outputs": [],
   "source": [
    "text='La pandemia de COVID-19 expuso el débil estado de las capacidades de investigación y desarrollo de vacunas de Japón\\\n",
    "     Recién ahora, por ejemplo, los reguladores japoneses están considerando la aprobación\\\n",
    "     de las primeras vacunas COVID-19 de cosecha propia del país\\\n",
    "     meses después de que muchas naciones menos avanzadas desarrollaran sus propios tiros.\\\n",
    "     Decidido a ponerse al día, Japón está aumentando una iniciativa de 1,1 billones de yenes\\\n",
    "     ($ 8,5 mil millones) que tiene como objetivo darle a Japón la capacidad de desarrollar una\\\n",
    "     vacuna para un nuevo virus en 100 días\\\n",
    "     una meta que está siendo adoptada por muchos países'\n",
    "                "
   ]
  },
  {
   "cell_type": "code",
   "execution_count": 82,
   "id": "87b1fb06-9a11-41ed-88e7-9b50f7d076c9",
   "metadata": {
    "tags": []
   },
   "outputs": [
    {
     "name": "stdout",
     "output_type": "stream",
     "text": [
      "[polyglot_data] Downloading package embeddings2.es to\n",
      "[polyglot_data]     /home/mn/polyglot_data...\n",
      "[polyglot_data]   Package embeddings2.es is already up-to-date!\n",
      "[polyglot_data] Downloading package ner2.es to\n",
      "[polyglot_data]     /home/mn/polyglot_data...\n",
      "[polyglot_data]   Package ner2.es is already up-to-date!\n",
      "[polyglot_data] Downloading package pos2.es to\n",
      "[polyglot_data]     /home/mn/polyglot_data...\n",
      "\n",
      "\n",
      "entities:\n",
      " [I-PER(['COVID']), I-LOC(['Japón']), I-LOC(['Japón']), I-LOC(['Japón'])]\n"
     ]
    }
   ],
   "source": [
    "from polyglot.downloader import downloader\n",
    "downloader.download(\"embeddings2.es\")\n",
    "downloader.download(\"ner2.es\")\n",
    "downloader.download(\"pos2.es\")\n",
    "\n",
    "from polyglot.text import Text\n",
    "import icu\n",
    "\n",
    "new_text=Text(text)\n",
    "print('\\n\\nentities:\\n', new_text.entities)"
   ]
  },
  {
   "cell_type": "code",
   "execution_count": 84,
   "id": "d0473bdd-7fe4-43d4-9e29-2d3a83cb1771",
   "metadata": {
    "tags": []
   },
   "outputs": [
    {
     "name": "stdout",
     "output_type": "stream",
     "text": [
      "[('I-PER', 'COVID'), ('I-LOC', 'Japón'), ('I-LOC', 'Japón'), ('I-LOC', 'Japón')]\n"
     ]
    }
   ],
   "source": [
    "entities = [(ent.tag, ' '.join(ent)) for ent in new_text.entities]\n",
    "\n",
    "# Print entities\n",
    "print(entities)\n"
   ]
  },
  {
   "cell_type": "code",
   "execution_count": 83,
   "id": "bd8548b2-6d93-4e65-9038-2c498c6259f3",
   "metadata": {
    "tags": []
   },
   "outputs": [
    {
     "name": "stdout",
     "output_type": "stream",
     "text": [
      "La              DET\n",
      "pandemia        NOUN\n",
      "de              ADP\n",
      "COVID            X\n",
      "-               PUNCT\n",
      "19              NUM\n",
      "expuso          VERB\n",
      "el              DET\n",
      "débil           ADJ\n",
      "estado          NOUN\n",
      "de              ADP\n",
      "las             DET\n",
      "capacidades     NOUN\n",
      "de              ADP\n",
      "investigación   NOUN\n",
      "y               CONJ\n",
      "desarrollo      NOUN\n",
      "de              ADP\n",
      "vacunas         NOUN\n",
      "de              ADP\n",
      "Japón           PROPN\n",
      "Recién          ADV\n",
      "ahora           ADV\n",
      ",               PUNCT\n",
      "por             ADP\n",
      "ejemplo         NOUN\n",
      ",               PUNCT\n",
      "los             DET\n",
      "reguladores     NOUN\n",
      "japoneses       ADJ\n",
      "están           AUX\n",
      "considerando    VERB\n",
      "la              DET\n",
      "aprobación      NOUN\n",
      "de              ADP\n",
      "las             DET\n",
      "primeras        NUM\n",
      "vacunas         NOUN\n",
      "COVID            X\n",
      "-               PUNCT\n",
      "19              NUM\n",
      "de              ADP\n",
      "cosecha         NOUN\n",
      "propia          ADJ\n",
      "del             ADP\n",
      "país            NOUN\n",
      "meses           NOUN\n",
      "después         ADV\n",
      "de              ADP\n",
      "que             SCONJ\n",
      "muchas          DET\n",
      "naciones        NOUN\n",
      "menos           ADV\n",
      "avanzadas       ADJ\n",
      "desarrollaran   VERB\n",
      "sus             DET\n",
      "propios         ADJ\n",
      "tiros           NOUN\n",
      ".               PROPN\n",
      "Decidido        PROPN\n",
      "a               ADP\n",
      "ponerse         VERB\n",
      "al              DET\n",
      "día             NOUN\n",
      ",               PUNCT\n",
      "Japón           PROPN\n",
      "está            AUX\n",
      "aumentando      VERB\n",
      "una             DET\n",
      "iniciativa      NOUN\n",
      "de              ADP\n",
      "1,1             NUM\n",
      "billones        NOUN\n",
      "de              ADP\n",
      "yenes           NOUN\n",
      "(               PUNCT\n",
      "$               SYM\n",
      "8,5             NUM\n",
      "mil             NUM\n",
      "millones        NOUN\n",
      ")               PUNCT\n",
      "que             SCONJ\n",
      "tiene           VERB\n",
      "como            ADP\n",
      "objetivo        NOUN\n",
      "darle           VERB\n",
      "a               ADP\n",
      "Japón           PROPN\n",
      "la              DET\n",
      "capacidad       NOUN\n",
      "de              ADP\n",
      "desarrollar     VERB\n",
      "una             DET\n",
      "vacuna          NOUN\n",
      "para            ADP\n",
      "un              DET\n",
      "nuevo           ADJ\n",
      "virus           NOUN\n",
      "en              ADP\n",
      "100             NUM\n",
      "días            NOUN\n",
      "una             DET\n",
      "meta            NOUN\n",
      "que             SCONJ\n",
      "está            AUX\n",
      "siendo          AUX\n",
      "adoptada        VERB\n",
      "por             ADP\n",
      "muchos          DET\n",
      "países          NOUN\n"
     ]
    }
   ],
   "source": [
    "for word, tag in new_text.pos_tags:\n",
    "    print(u\"{:<16}{:>2}\".format(word, tag))"
   ]
  }
 ],
 "metadata": {
  "kernelspec": {
   "display_name": "Python 3 (ipykernel)",
   "language": "python",
   "name": "python3"
  },
  "language_info": {
   "codemirror_mode": {
    "name": "ipython",
    "version": 3
   },
   "file_extension": ".py",
   "mimetype": "text/x-python",
   "name": "python",
   "nbconvert_exporter": "python",
   "pygments_lexer": "ipython3",
   "version": "3.10.6"
  }
 },
 "nbformat": 4,
 "nbformat_minor": 5
}
