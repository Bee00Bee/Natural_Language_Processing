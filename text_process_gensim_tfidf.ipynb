{
 "cells": [
  {
   "cell_type": "code",
   "execution_count": 3,
   "id": "7ee90a2d-a1d9-43a3-be54-1613f5a3162d",
   "metadata": {
    "tags": []
   },
   "outputs": [],
   "source": [
    "import nltk\n",
    "from nltk import word_tokenize\n",
    "from collections import Counter"
   ]
  },
  {
   "cell_type": "code",
   "execution_count": 16,
   "id": "83b0265d-df58-4d23-86b6-941e124bdeee",
   "metadata": {
    "tags": []
   },
   "outputs": [
    {
     "name": "stderr",
     "output_type": "stream",
     "text": [
      "[nltk_data] Downloading package wordnet to /home/mn/nltk_data...\n"
     ]
    },
    {
     "data": {
      "text/plain": [
       "True"
      ]
     },
     "execution_count": 16,
     "metadata": {},
     "output_type": "execute_result"
    }
   ],
   "source": [
    "nltk.download('wordnet')"
   ]
  },
  {
   "cell_type": "code",
   "execution_count": 20,
   "id": "05a1b5c5-d3c2-487f-a964-f8963244e39a",
   "metadata": {
    "tags": []
   },
   "outputs": [
    {
     "name": "stdout",
     "output_type": "stream",
     "text": [
      "word frequency:\n",
      " Counter({'.': 3, 'the': 2, 'world': 2, 'as': 2, '#': 2, ',': 2, 'approval': 2, 'is': 1, 'beautiful': 1, 'we': 1, 'accept': 1, 'different': 1, 'opinions': 1, '!': 1, 'Arguments': 1, 'exist': 1, 'thoughts': 1, 'well': 1, 'Say': 1, 'hi': 1, 'to': 1, ':': 1, '-': 1, ')': 1, 'Acceptance': 1, 'doesn': 1, 'need': 1, 'Approved': 1, 'arguement': 1, 'or': 1, 'argument': 1, '?': 1})\n",
      "\n",
      "The most frequent words:\n",
      " [('.', 3), ('the', 2), ('world', 2)]\n"
     ]
    }
   ],
   "source": [
    "sample_text = 'the world is beautiful as we accept different opinions! #Arguments exist, #thoughts as well. Say hi to the world :-). Acceptance \\\n",
    "doesn need approval. Approved arguement, or argument approval? '\n",
    "\n",
    "# calculate the frequency of words\n",
    "print('word frequency:\\n', Counter(word_tokenize(sample_text)))\n",
    "\n",
    "print('\\nThe most frequent words:\\n', Counter(word_tokenize(sample_text)).most_common(3))"
   ]
  },
  {
   "cell_type": "markdown",
   "id": "d65af1eb-8fdb-4933-bf59-7875bad4c23b",
   "metadata": {},
   "source": [
    "## Text preprocessing\n",
    "Here I would like to remove stop words and unknown characters to make sure to capture real words"
   ]
  },
  {
   "cell_type": "code",
   "execution_count": 21,
   "id": "7e1a98dd-1cd9-49a8-8a97-db8abef6b708",
   "metadata": {
    "tags": []
   },
   "outputs": [
    {
     "data": {
      "text/plain": [
       "[('world', 2), ('argument', 2), ('approval', 2)]"
      ]
     },
     "execution_count": 21,
     "metadata": {},
     "output_type": "execute_result"
    }
   ],
   "source": [
    "from nltk.corpus import stopwords\n",
    "from nltk.stem import WordNetLemmatizer\n",
    "\n",
    "tokens = [ word for word in word_tokenize(sample_text.lower())\n",
    "                      if word.isalpha()]\n",
    "\n",
    "words = [word for word in tokens if word not in stopwords.words('english')]\n",
    "\n",
    "lem = WordNetLemmatizer()\n",
    "\n",
    "lems = [lem.lemmatize(t) for t in words]\n",
    "\n",
    "Counter(lems).most_common(3)"
   ]
  },
  {
   "cell_type": "markdown",
   "id": "71c0fd59-6fcc-4f9f-bbf8-99df2f285f33",
   "metadata": {},
   "source": [
    "## Gensim\n",
    "It is a free resource in NLP and it is used in topic identification, build word vectors and create documents. "
   ]
  },
  {
   "cell_type": "code",
   "execution_count": 25,
   "id": "bae9b276-57d9-4ce4-83aa-7e90abc2be7a",
   "metadata": {
    "tags": []
   },
   "outputs": [],
   "source": [
    "sample_text_lst =['The COVID-19 pandemic exposed the feeble state of Japan’s vaccine research and development capabilities.',\n",
    "                  'Only now, for example, are Japanese regulators considering approval of the country’s first homegrown COVID-19 vaccines,',\n",
    "                  'months after many less advanced nations developed their own shots.',\n",
    "                  'Determined to catch up, Japan is ramping up a 1.1 trillion yen ($8.5 billion) initiative that aims to give Japan the capability to develop a vaccine for a new virus in 100 days,',\n",
    "                  'a goal being adopted by many countries.']"
   ]
  },
  {
   "cell_type": "code",
   "execution_count": 30,
   "id": "37b7c4a1-4e9b-4f60-97a0-2019ffac073f",
   "metadata": {
    "tags": []
   },
   "outputs": [
    {
     "name": "stdout",
     "output_type": "stream",
     "text": [
      "{'.': 0, 'and': 1, 'capabilities': 2, 'covid-19': 3, 'development': 4, 'exposed': 5, 'feeble': 6, 'japan': 7, 'of': 8, 'pandemic': 9, 'research': 10, 's': 11, 'state': 12, 'the': 13, 'vaccine': 14, '’': 15, ',': 16, 'approval': 17, 'are': 18, 'considering': 19, 'country': 20, 'example': 21, 'first': 22, 'for': 23, 'homegrown': 24, 'japanese': 25, 'now': 26, 'only': 27, 'regulators': 28, 'vaccines': 29, 'advanced': 30, 'after': 31, 'developed': 32, 'less': 33, 'many': 34, 'months': 35, 'nations': 36, 'own': 37, 'shots': 38, 'their': 39, '$': 40, '(': 41, ')': 42, '1.1': 43, '100': 44, '8.5': 45, 'a': 46, 'aims': 47, 'billion': 48, 'capability': 49, 'catch': 50, 'days': 51, 'determined': 52, 'develop': 53, 'give': 54, 'in': 55, 'initiative': 56, 'is': 57, 'new': 58, 'ramping': 59, 'that': 60, 'to': 61, 'trillion': 62, 'up': 63, 'virus': 64, 'yen': 65, 'adopted': 66, 'being': 67, 'by': 68, 'countries': 69, 'goal': 70}\n"
     ]
    }
   ],
   "source": [
    "import gensim\n",
    "from gensim.corpora.dictionary import Dictionary\n",
    "\n",
    "tokenized = [word_tokenize(lst.lower()) for lst in sample_text_lst]\n",
    "dic = Dictionary(tokenized)\n",
    "print(dic.token2id)"
   ]
  },
  {
   "cell_type": "markdown",
   "id": "eecffd5b-dfd9-40cb-b7ac-5ec265a08c77",
   "metadata": {
    "tags": []
   },
   "source": [
    "### gensim corpus\n",
    "gensim uses tokenid and the frequency of each tokens to create a list of list, which each list is a list in the **sample_text_lst**.\n",
    "For example the first list corresponds to 'The COVID-19 pandemic ...'. \n",
    "The first number is the token id in the **dic** and the second one is the frequency of the token in each sublist. "
   ]
  },
  {
   "cell_type": "code",
   "execution_count": 32,
   "id": "ed87a3fa-76fb-43c8-a590-8bf80f1d7822",
   "metadata": {
    "tags": []
   },
   "outputs": [
    {
     "name": "stdout",
     "output_type": "stream",
     "text": [
      "[[(0, 1), (1, 1), (2, 1), (3, 1), (4, 1), (5, 1), (6, 1), (7, 1), (8, 1), (9, 1), (10, 1), (11, 1), (12, 1), (13, 2), (14, 1), (15, 1)], [(3, 1), (8, 1), (11, 1), (13, 1), (15, 1), (16, 3), (17, 1), (18, 1), (19, 1), (20, 1), (21, 1), (22, 1), (23, 1), (24, 1), (25, 1), (26, 1), (27, 1), (28, 1), (29, 1)], [(0, 1), (30, 1), (31, 1), (32, 1), (33, 1), (34, 1), (35, 1), (36, 1), (37, 1), (38, 1), (39, 1)], [(7, 2), (13, 1), (14, 1), (16, 2), (23, 1), (40, 1), (41, 1), (42, 1), (43, 1), (44, 1), (45, 1), (46, 3), (47, 1), (48, 1), (49, 1), (50, 1), (51, 1), (52, 1), (53, 1), (54, 1), (55, 1), (56, 1), (57, 1), (58, 1), (59, 1), (60, 1), (61, 3), (62, 1), (63, 2), (64, 1), (65, 1)], [(0, 1), (34, 1), (46, 1), (66, 1), (67, 1), (68, 1), (69, 1), (70, 1)]]\n"
     ]
    }
   ],
   "source": [
    "corpus = [dic.doc2bow(doc) for doc in tokenized]\n",
    "print(corpus)"
   ]
  },
  {
   "cell_type": "code",
   "execution_count": 38,
   "id": "26139cee-9de6-4d5e-a0cc-366a6c16f352",
   "metadata": {
    "tags": []
   },
   "outputs": [
    {
     "name": "stdout",
     "output_type": "stream",
     "text": [
      ". 1\n",
      "and 1\n",
      "capabilities 1\n",
      "covid-19 1\n",
      "development 1\n",
      "exposed 1\n",
      "feeble 1\n",
      "japan 1\n",
      "of 1\n",
      "pandemic 1\n"
     ]
    }
   ],
   "source": [
    "# looking at the first ten words in the first list of corpus\n",
    "for word_id, word_count in corpus[0][:10]:\n",
    "    print(dic.get(word_id), word_count)"
   ]
  },
  {
   "cell_type": "code",
   "execution_count": 45,
   "id": "e0e2dcef-4b6c-4667-b226-e15adc6cd12f",
   "metadata": {
    "tags": []
   },
   "outputs": [],
   "source": [
    "# calculate the frequency of each word in whole document using the created corpus\n",
    "\n",
    "import itertools\n",
    "from collections import defaultdict\n",
    "\n",
    "word_counts = defaultdict(int)\n",
    "\n",
    "for word_id, word_count in itertools.chain.from_iterable(corpus):\n",
    "    word_counts[word_id] += word_count"
   ]
  },
  {
   "cell_type": "code",
   "execution_count": 46,
   "id": "44514b01-d982-4ff5-bcf3-e1a1756c6052",
   "metadata": {
    "tags": []
   },
   "outputs": [
    {
     "name": "stdout",
     "output_type": "stream",
     "text": [
      "defaultdict(<class 'int'>, {0: 3, 1: 1, 2: 1, 3: 2, 4: 1, 5: 1, 6: 1, 7: 3, 8: 2, 9: 1, 10: 1, 11: 2, 12: 1, 13: 4, 14: 2, 15: 2, 16: 5, 17: 1, 18: 1, 19: 1, 20: 1, 21: 1, 22: 1, 23: 2, 24: 1, 25: 1, 26: 1, 27: 1, 28: 1, 29: 1, 30: 1, 31: 1, 32: 1, 33: 1, 34: 2, 35: 1, 36: 1, 37: 1, 38: 1, 39: 1, 40: 1, 41: 1, 42: 1, 43: 1, 44: 1, 45: 1, 46: 4, 47: 1, 48: 1, 49: 1, 50: 1, 51: 1, 52: 1, 53: 1, 54: 1, 55: 1, 56: 1, 57: 1, 58: 1, 59: 1, 60: 1, 61: 3, 62: 1, 63: 2, 64: 1, 65: 1, 66: 1, 67: 1, 68: 1, 69: 1, 70: 1})\n"
     ]
    }
   ],
   "source": [
    "print(word_counts)"
   ]
  },
  {
   "cell_type": "code",
   "execution_count": 50,
   "id": "a666eacf-a325-42ba-a691-6e9d4b03121d",
   "metadata": {
    "tags": []
   },
   "outputs": [
    {
     "name": "stdout",
     "output_type": "stream",
     "text": [
      "[(16, 5), (13, 4), (46, 4), (0, 3), (7, 3), (61, 3), (3, 2), (8, 2), (11, 2), (14, 2), (15, 2), (23, 2), (34, 2), (63, 2), (1, 1), (2, 1), (4, 1), (5, 1), (6, 1), (9, 1), (10, 1), (12, 1), (17, 1), (18, 1), (19, 1), (20, 1), (21, 1), (22, 1), (24, 1), (25, 1), (26, 1), (27, 1), (28, 1), (29, 1), (30, 1), (31, 1), (32, 1), (33, 1), (35, 1), (36, 1), (37, 1), (38, 1), (39, 1), (40, 1), (41, 1), (42, 1), (43, 1), (44, 1), (45, 1), (47, 1), (48, 1), (49, 1), (50, 1), (51, 1), (52, 1), (53, 1), (54, 1), (55, 1), (56, 1), (57, 1), (58, 1), (59, 1), (60, 1), (62, 1), (64, 1), (65, 1), (66, 1), (67, 1), (68, 1), (69, 1), (70, 1)]\n"
     ]
    }
   ],
   "source": [
    "sorted_word_counts = sorted(word_counts.items(), key=lambda w: w[1], reverse=True) \n",
    "print(sorted_word_counts)"
   ]
  },
  {
   "cell_type": "code",
   "execution_count": 53,
   "id": "51d4b4b4-68df-4b1e-8e88-ccd7dc6ab6ee",
   "metadata": {
    "tags": []
   },
   "outputs": [
    {
     "name": "stdout",
     "output_type": "stream",
     "text": [
      ", 5\n",
      "the 4\n",
      "a 4\n",
      ". 3\n",
      "japan 3\n",
      "to 3\n",
      "covid-19 2\n",
      "of 2\n",
      "s 2\n",
      "vaccine 2\n"
     ]
    }
   ],
   "source": [
    "for word_id, word_count in sorted_word_counts[:10]:\n",
    "    print(dic.get(word_id), word_count)"
   ]
  },
  {
   "attachments": {
    "b5f6dcb4-3832-4294-8c15-bfb3decc14e3.png": {
     "image/png": "[encoded data removed]"
    }
   },
   "cell_type": "markdown",
   "id": "c1d1e728-c5c8-4494-8e94-ddd7713d64a5",
   "metadata": {},
   "source": [
    "### TF-IDF\n",
    "This stands for term frequency-inverse document frequency\n",
    "\n",
    "![image.png](attachment:b5f6dcb4-3832-4294-8c15-bfb3decc14e3.png)\n",
    "\n",
    "The term frequency can explained by the example below:\n",
    "suppose the word: $'World'$ appears 10 times in a document which has 200 words. If a corpus has 1000 documents which 50 of them has the word then term frequency is:\n",
    "\n",
    "(10/200)*log(1000/50)"
   ]
  },
  {
   "cell_type": "code",
   "execution_count": 78,
   "id": "52067bf6-e987-467b-8afc-29ae4734c1a7",
   "metadata": {
    "tags": []
   },
   "outputs": [
    {
     "name": "stdout",
     "output_type": "stream",
     "text": [
      "[(3, 0.13957298366385287), (8, 0.13957298366385287), (11, 0.13957298366385287), (13, 0.0778109544938191), (15, 0.13957298366385287), (16, 0.4187189509915586), (17, 0.24515586990680352), (18, 0.24515586990680352), (19, 0.24515586990680352), (20, 0.24515586990680352), (21, 0.24515586990680352), (22, 0.24515586990680352), (23, 0.13957298366385287), (24, 0.24515586990680352), (25, 0.24515586990680352), (26, 0.24515586990680352), (27, 0.24515586990680352), (28, 0.24515586990680352), (29, 0.24515586990680352)]\n"
     ]
    }
   ],
   "source": [
    "from gensim.models.tfidfmodel import TfidfModel\n",
    "\n",
    "tfidf = TfidfModel(corpus)\n",
    "tfidf_weights = tfidf[corpus[1]]\n",
    "print(tfidf_weights)\n",
    "sorted_tfidf_weights = sorted(tfidf_weights, key=lambda w: w[1], reverse=True)"
   ]
  },
  {
   "cell_type": "code",
   "execution_count": 79,
   "id": "c5a8a511-a85e-405e-bb46-7c511e0bb6ab",
   "metadata": {
    "tags": []
   },
   "outputs": [
    {
     "name": "stdout",
     "output_type": "stream",
     "text": [
      ", 0.4187189509915586\n",
      "approval 0.24515586990680352\n",
      "are 0.24515586990680352\n",
      "considering 0.24515586990680352\n",
      "country 0.24515586990680352\n",
      "example 0.24515586990680352\n",
      "first 0.24515586990680352\n",
      "homegrown 0.24515586990680352\n",
      "japanese 0.24515586990680352\n",
      "now 0.24515586990680352\n",
      "only 0.24515586990680352\n",
      "regulators 0.24515586990680352\n",
      "vaccines 0.24515586990680352\n",
      "covid-19 0.13957298366385287\n",
      "of 0.13957298366385287\n",
      "s 0.13957298366385287\n",
      "’ 0.13957298366385287\n",
      "for 0.13957298366385287\n",
      "the 0.0778109544938191\n"
     ]
    }
   ],
   "source": [
    "for word_id, weight in sorted_tfidf_weights:\n",
    "    print(dic.get(word_id), weight)"
   ]
  }
 ],
 "metadata": {
  "kernelspec": {
   "display_name": "Python 3 (ipykernel)",
   "language": "python",
   "name": "python3"
  },
  "language_info": {
   "codemirror_mode": {
    "name": "ipython",
    "version": 3
   },
   "file_extension": ".py",
   "mimetype": "text/x-python",
   "name": "python",
   "nbconvert_exporter": "python",
   "pygments_lexer": "ipython3",
   "version": "3.10.6"
  }
 },
 "nbformat": 4,
 "nbformat_minor": 5
}
