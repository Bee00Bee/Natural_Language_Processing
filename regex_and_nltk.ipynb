{
 "cells": [
  {
   "cell_type": "markdown",
   "metadata": {
    "tags": []
   },
   "source": [
    "### Common regex patterns\n",
    "\n",
    "| pattern | matches | example |\n",
    "| --- | --- | --- |\n",
    "| \\w+ | word | 'Magic' |\n",
    "| \\d  | digit| 9       |\n",
    "| \\s  | space| ' '     |\n",
    "|.*   | wildcard | 'username74'|\n",
    "|+ or * | greedy match | 'aaaaa' |\n",
    "|\\S | not space | 'no_spaces'|\n",
    "|[a-z] | lowercase group | 'abcdefg'|\n",
    "\n",
    "### useful modules\n",
    "- **re**: modele\n",
    "- **split**: split a string \n",
    "- **findall**: find all match patterns\n",
    "- **search**: search for a pattern\n",
    "- **match**: match on entire string or substring based on a pattern\n",
    "\n",
    "Keep in mind that pattern first and string the second"
   ]
  },
  {
   "cell_type": "code",
   "execution_count": 7,
   "metadata": {
    "tags": []
   },
   "outputs": [
    {
     "data": {
      "text/plain": [
       "['this', 'is', 'a', 'test', 'to', 'split', 'on', 'spaces.']"
      ]
     },
     "execution_count": 7,
     "metadata": {},
     "output_type": "execute_result"
    }
   ],
   "source": [
    "import re\n",
    "\n",
    "text = 'this is a test to split on spaces.'\n",
    "re.split('\\s+', text)"
   ]
  },
  {
   "cell_type": "code",
   "execution_count": 8,
   "metadata": {
    "tags": []
   },
   "outputs": [
    {
     "data": {
      "text/plain": [
       "['this',\n",
       " 'is',\n",
       " 'a',\n",
       " 'test',\n",
       " 'to',\n",
       " 'know',\n",
       " 'findall',\n",
       " 'module',\n",
       " 'to',\n",
       " 'find',\n",
       " 'the',\n",
       " 'words',\n",
       " 'in',\n",
       " 'a',\n",
       " 'sentence',\n",
       " '101']"
      ]
     },
     "execution_count": 8,
     "metadata": {},
     "output_type": "execute_result"
    }
   ],
   "source": [
    "text = 'this is a test to know findall module to find the words in a sentence 101 ** $.'\n",
    "re.findall('\\w+', text)"
   ]
  },
  {
   "cell_type": "code",
   "execution_count": 21,
   "metadata": {
    "tags": []
   },
   "outputs": [
    {
     "name": "stdout",
     "output_type": "stream",
     "text": [
      "Here are the symbols:\n",
      "['*&*&$%']\n",
      "\n",
      "Here are the capital letters:\n",
      "PATTERNS\n",
      "\n",
      "Here are the splitted words:\n",
      "['this', 'is', 'not', 'hard', 'to', 'find', 'specific', 'chars', '^*&*&$%),', '2055687;but', 'is', 'fun', 'to', 'find', 'specific', 'PATTERNS']\n",
      "\n",
      "Here are the digits in the text:\n",
      "['2055687']\n"
     ]
    }
   ],
   "source": [
    "text = 'this is not hard to find specific chars ^*&*&$%), 2055687;but is fun to find specific PATTERNS'\n",
    "\n",
    "# find specific symbols\n",
    "pattern = r'[^&*$%]'\n",
    "lst=(re.split(pattern, text))\n",
    "print('Here are the symbols:')\n",
    "print([ele for ele in lst if ele!=''])\n",
    "\n",
    "#find capitalized words\n",
    "pattern=r'[A-Z]\\w+'\n",
    "lst=(re.findall(pattern, text))\n",
    "print('\\nHere are the capital letters:')\n",
    "print(' '.join(lst))\n",
    "\n",
    "#split the sentences based on white spaces\n",
    "pattern=r'\\s+'\n",
    "sents=re.split(pattern, text)\n",
    "print('\\nHere are the splitted words:')\n",
    "print(sents)\n",
    "\n",
    "#find any digits\n",
    "pattern=r'\\d+'\n",
    "print('\\nHere are the digits in the text:')\n",
    "sents=re.findall(pattern, text)\n",
    "print(sents)"
   ]
  },
  {
   "cell_type": "code",
   "execution_count": 10,
   "metadata": {
    "tags": []
   },
   "outputs": [
    {
     "name": "stdout",
     "output_type": "stream",
     "text": [
      "Match results:  None\n",
      "\n",
      "Search results:  <re.Match object; span=(9, 12), match='abc'>\n"
     ]
    }
   ],
   "source": [
    "text='hi there abc though we have abcdedf'\n",
    "print('Match results: ', re.match('abc', text))\n",
    "print('\\nSearch results: ', re.search('abc', text))"
   ]
  },
  {
   "cell_type": "markdown",
   "metadata": {},
   "source": [
    "### Tokenization"
   ]
  },
  {
   "cell_type": "code",
   "execution_count": 51,
   "metadata": {
    "tags": []
   },
   "outputs": [],
   "source": [
    "# nltk: natural language toolkit\n",
    "import nltk\n",
    "from nltk.tokenize import word_tokenize, sent_tokenize"
   ]
  },
  {
   "cell_type": "code",
   "execution_count": 52,
   "metadata": {
    "tags": []
   },
   "outputs": [],
   "source": [
    "sample_text=' It was 7 minutes after midnight. The dog was lying on the grass in the middle of the lawn in front of Mrs Shears’ house. \\\n",
    "Its eyes were closed. It looked as if it was running on its side, the way dogs run when they think they are chasing a cat in a dream.\\\n",
    "But the dog was not running or asleep. The dog was dead. There was a garden fork sticking out of the dog.\\\n",
    "The points of the fork must have gone all the way through the dog and into the ground because the fork had not fallen over.\\\n",
    "I decided that the dog was probably killed with the fork because I could not see any other wounds in the dog and\\\n",
    "I do not think you would stick a garden fork into a dog after it had died for some other reason, like cancer for example, or a road accident.\\\n",
    "But I could not be certain about this. I went through Mrs Shears’ gate, closing it behind me\\\n",
    "I walked onto her lawn and knelt beside the dog. I put my hand on the muzzle of the dog.\\\n",
    "It was still warm.\\The dog was called Wellington. It belonged to Mrs Shears who was our friend. She lived on the opposite side of the road, two houses to the left.'"
   ]
  },
  {
   "cell_type": "code",
   "execution_count": 63,
   "metadata": {
    "tags": []
   },
   "outputs": [
    {
     "name": "stdout",
     "output_type": "stream",
     "text": [
      "[' It was 7 minutes after midnight.', 'The dog was lying on the grass in the middle of the lawn in front of Mrs Shears’ house.', 'Its eyes were closed.', 'It looked as if it was running on its side, the way dogs run when they think they are chasing a cat in a dream.But the dog was not running or asleep.', 'The dog was dead.', 'There was a garden fork sticking out of the dog.The points of the fork must have gone all the way through the dog and into the ground because the fork had not fallen over.I decided that the dog was probably killed with the fork because I could not see any other wounds in the dog andI do not think you would stick a garden fork into a dog after it had died for some other reason, like cancer for example, or a road accident.But I could not be certain about this.', 'I went through Mrs Shears’ gate, closing it behind meI walked onto her lawn and knelt beside the dog.', 'I put my hand on the muzzle of the dog.It was still warm.\\\\The dog was called Wellington.', 'It belonged to Mrs Shears who was our friend.', 'She lived on the opposite side of the road, two houses to the left.']\n"
     ]
    }
   ],
   "source": [
    "# splitting sentences\n",
    "sentences=sent_tokenize(sample_text)\n",
    "print(sentences)"
   ]
  },
  {
   "cell_type": "code",
   "execution_count": 58,
   "metadata": {
    "tags": []
   },
   "outputs": [
    {
     "data": {
      "text/plain": [
       "['It', 'was', '7', 'minutes', 'after', 'midnight', '.']"
      ]
     },
     "execution_count": 58,
     "metadata": {},
     "output_type": "execute_result"
    }
   ],
   "source": [
    "tokenized_sents = word_tokenize(sentences[0])\n",
    "tokenized_sents"
   ]
  },
  {
   "cell_type": "code",
   "execution_count": 120,
   "metadata": {
    "tags": []
   },
   "outputs": [
    {
     "name": "stdout",
     "output_type": "stream",
     "text": [
      "['died', 'middle', '7', 'for', 'have', 'left', 'Wellington', 'Shears', 'the', 'house', 'think', 'Its', 'dead', 'dog.The', 'must', 'wounds', 'asleep', 'hand', 'you', 'would', 'her', 'went', 'was', 'behind', 'garden', 'through', 'other', 'gate', 'running', 'closed', 'be', 'cat', 'cancer', 'who', '’', 'because', 'I', 'not', 'into', 'front', 'are', 'killed', 'on', 'do', 'or', 'lived', 'stick', 'looked', 'about', 'fork', 'chasing', 'muzzle', 'had', 'probably', 'when', 'in', 'belonged', 'opposite', 'accident.But', 'andI', 'out', '.', 'side', 'minutes', 'meI', 'after', 'could', 'dream.But', 'reason', 'houses', 'dog', 'if', 'decided', 'a', 'called', 'The', 'like', 'eyes', 'way', 'gone', 'were', 'road', 'dog.It', 'Mrs', 'any', 'see', 'over.I', 'and', 'some', 'still', 'points', 'my', 'warm.\\\\The', 'certain', 'sticking', 'as', 'dogs', 'lawn', ',', 'with', 'closing', 'fallen', 'beside', 'that', 'it', 'knelt', 'example', 'all', 'friend', 'of', 'She', 'two', 'grass', 'this', 'lying', 'ground', 'our', 'midnight', 'put', 'walked', 'to', 'its', 'There', 'onto', 'It', 'run', 'they']\n"
     ]
    }
   ],
   "source": [
    "# tokenizing all sentences and extract unique words\n",
    "unique_words = set(word_tokenize(sample_text))\n",
    "print(list(unique_words))"
   ]
  },
  {
   "cell_type": "code",
   "execution_count": 119,
   "metadata": {
    "tags": []
   },
   "outputs": [
    {
     "name": "stdout",
     "output_type": "stream",
     "text": [
      "unique words:\n",
      " ['died', 'middle', '7', 'for', 'have', 'left', 'Wellington', 'Shears', 'the', 'house', 'But', 'think', 'Its', 'dead', 'must', 'wounds', 'asleep', 'hand', 'you', 'would', 'her', 'went', 'was', 'behind', 'garden', 'through', 'other', 'gate', 'running', 'closed', 'be', 'cat', 'over', 'cancer', 'who', 'because', 'I', 'not', 'into', 'front', 'are', 'killed', 'on', 'do', 'or', 'lived', 'stick', 'looked', 'dream', 'about', 'fork', 'chasing', 'muzzle', 'had', 'probably', 'when', 'in', 'belonged', 'opposite', 'andI', 'out', 'side', 'minutes', 'meI', 'after', 'accident', 'could', 'reason', 'houses', 'dog', 'if', 'decided', 'a', 'called', 'The', 'like', 'eyes', 'way', 'gone', 'were', 'road', 'Mrs', 'any', 'see', 'and', 'some', 'still', 'points', 'my', 'certain', 'sticking', 'as', 'dogs', 'lawn', 'warm', 'with', 'closing', 'fallen', 'beside', 'that', 'it', 'knelt', 'example', 'all', 'friend', 'of', 'She', 'two', 'grass', 'this', 'lying', 'ground', 'our', 'midnight', 'put', 'walked', 'to', 'its', 'There', 'onto', 'It', 'run', 'they']\n",
      "\n",
      "\n",
      "Quicker way to find unique words:\n",
      " ['died', 'middle', '7', 'for', 'have', 'left', 'Wellington', 'Shears', 'the', 'house', 'But', 'think', 'Its', 'dead', 'must', 'wounds', 'asleep', 'hand', 'you', 'would', 'her', 'went', 'was', 'behind', 'garden', 'through', 'other', 'gate', 'running', 'closed', 'be', 'cat', 'over', 'cancer', 'who', 'because', 'I', 'not', 'into', 'front', 'are', 'killed', 'on', 'do', 'or', 'lived', 'stick', 'looked', 'dream', 'about', 'fork', 'chasing', 'muzzle', 'had', 'probably', 'when', 'in', 'belonged', 'opposite', 'andI', 'out', 'side', 'minutes', 'meI', 'after', 'accident', 'could', 'reason', 'houses', 'dog', 'if', 'decided', 'a', 'called', 'The', 'like', 'eyes', 'way', 'gone', 'were', 'road', 'Mrs', 'any', 'see', 'and', 'some', 'still', 'points', 'my', 'certain', 'sticking', 'as', 'dogs', 'lawn', 'warm', 'with', 'closing', 'fallen', 'beside', 'that', 'it', 'knelt', 'example', 'all', 'friend', 'of', 'She', 'two', 'grass', 'this', 'lying', 'ground', 'our', 'midnight', 'put', 'walked', 'to', 'its', 'There', 'onto', 'It', 'run', 'they']\n"
     ]
    }
   ],
   "source": [
    "# using regex\n",
    "lines = sample_text.split('.')\n",
    "\n",
    "pattern=r'\\w+'\n",
    "lst_words=[re.findall(pattern,l) for l in lines]\n",
    "\n",
    "all_words=[]\n",
    "[all_words.append(word) for lst in lst_words for word in lst]\n",
    "print('unique words:\\n', list(set(all_words)))\n",
    "\n",
    "# quicker way\n",
    "lst_words = re.findall(pattern, sample_text)\n",
    "print('\\n\\nQuicker way to find unique words:\\n', list(set(lst_words)))"
   ]
  },
  {
   "cell_type": "markdown",
   "metadata": {
    "tags": []
   },
   "source": [
    "## histogram plot of words"
   ]
  },
  {
   "cell_type": "code",
   "execution_count": 98,
   "metadata": {
    "tags": []
   },
   "outputs": [
    {
     "data": {
      "image/png": "[encoded data removed]",
      "text/plain": [
       "<Figure size 640x480 with 1 Axes>"
      ]
     },
     "metadata": {},
     "output_type": "display_data"
    }
   ],
   "source": [
    "import matplotlib\n",
    "from matplotlib import pyplot as plt\n",
    "\n",
    "#first split the lines\n",
    "lines = sample_text.split('.')\n",
    "\n",
    "#replace patterns with space\n",
    "pattern = \"[A-Z]{2,}(\\s)?(#\\d)?([A-Z]{2,})?:\"\n",
    "lines = [re.sub(pattern, '', l) for l in lines]\n",
    "\n",
    "#tokenize words using nltk; list of words in each sentence\n",
    "from nltk import regexp_tokenize\n",
    "pattern = \"\\w+\"\n",
    "tokens = [regexp_tokenize(l, pattern) for l in lines]\n",
    "\n",
    "#number of words in each sentence\n",
    "lengths = [len(token) for token in tokens]\n",
    "\n",
    "#plot histogram\n",
    "plt.hist(lengths)\n",
    "\n",
    "plt.show()"
   ]
  }
 ],
 "metadata": {
  "kernelspec": {
   "display_name": "Python 3 (ipykernel)",
   "language": "python",
   "name": "python3"
  },
  "language_info": {
   "codemirror_mode": {
    "name": "ipython",
    "version": 3
   },
   "file_extension": ".py",
   "mimetype": "text/x-python",
   "name": "python",
   "nbconvert_exporter": "python",
   "pygments_lexer": "ipython3",
   "version": "3.10.6"
  }
 },
 "nbformat": 4,
 "nbformat_minor": 4
}
