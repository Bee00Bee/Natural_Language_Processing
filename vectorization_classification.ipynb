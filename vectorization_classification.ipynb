{
 "cells": [
  {
   "cell_type": "code",
   "execution_count": 88,
   "id": "d3949989-d349-43b5-8b3b-e5c518be0c9c",
   "metadata": {
    "tags": []
   },
   "outputs": [],
   "source": [
    "import pandas as pd\n",
    "import numpy as np\n",
    "import seaborn as sns\n",
    "import matplotlib.pyplot as plt\n",
    "from sklearn.feature_extraction.text import CountVectorizer\n",
    "from sklearn.feature_extraction.text import TfidfVectorizer\n",
    "from sklearn.model_selection import train_test_split\n",
    "from sklearn.naive_bayes import GaussianNB\n",
    "from sklearn.naive_bayes import BernoulliNB\n",
    "from sklearn.metrics import confusion_matrix, precision_score, classification_report, accuracy_score, ConfusionMatrixDisplay"
   ]
  },
  {
   "cell_type": "code",
   "execution_count": 87,
   "id": "f3f41617-760f-445d-a296-569238a0836f",
   "metadata": {
    "tags": []
   },
   "outputs": [
    {
     "data": {
      "text/html": [
       "<div>\n",
       "<style scoped>\n",
       "    .dataframe tbody tr th:only-of-type {\n",
       "        vertical-align: middle;\n",
       "    }\n",
       "\n",
       "    .dataframe tbody tr th {\n",
       "        vertical-align: top;\n",
       "    }\n",
       "\n",
       "    .dataframe thead th {\n",
       "        text-align: right;\n",
       "    }\n",
       "</style>\n",
       "<table border=\"1\" class=\"dataframe\">\n",
       "  <thead>\n",
       "    <tr style=\"text-align: right;\">\n",
       "      <th></th>\n",
       "      <th>Unnamed: 0</th>\n",
       "      <th>title</th>\n",
       "      <th>text</th>\n",
       "      <th>label</th>\n",
       "    </tr>\n",
       "  </thead>\n",
       "  <tbody>\n",
       "    <tr>\n",
       "      <th>0</th>\n",
       "      <td>8476</td>\n",
       "      <td>You Can Smell Hillary’s Fear</td>\n",
       "      <td>Daniel Greenfield, a Shillman Journalism Fello...</td>\n",
       "      <td>FAKE</td>\n",
       "    </tr>\n",
       "    <tr>\n",
       "      <th>1</th>\n",
       "      <td>10294</td>\n",
       "      <td>Watch The Exact Moment Paul Ryan Committed Pol...</td>\n",
       "      <td>Google Pinterest Digg Linkedin Reddit Stumbleu...</td>\n",
       "      <td>FAKE</td>\n",
       "    </tr>\n",
       "    <tr>\n",
       "      <th>2</th>\n",
       "      <td>3608</td>\n",
       "      <td>Kerry to go to Paris in gesture of sympathy</td>\n",
       "      <td>U.S. Secretary of State John F. Kerry said Mon...</td>\n",
       "      <td>REAL</td>\n",
       "    </tr>\n",
       "    <tr>\n",
       "      <th>3</th>\n",
       "      <td>10142</td>\n",
       "      <td>Bernie supporters on Twitter erupt in anger ag...</td>\n",
       "      <td>— Kaydee King (@KaydeeKing) November 9, 2016 T...</td>\n",
       "      <td>FAKE</td>\n",
       "    </tr>\n",
       "    <tr>\n",
       "      <th>4</th>\n",
       "      <td>875</td>\n",
       "      <td>The Battle of New York: Why This Primary Matters</td>\n",
       "      <td>It's primary day in New York and front-runners...</td>\n",
       "      <td>REAL</td>\n",
       "    </tr>\n",
       "  </tbody>\n",
       "</table>\n",
       "</div>"
      ],
      "text/plain": [
       "   Unnamed: 0                                              title  \\\n",
       "0        8476                       You Can Smell Hillary’s Fear   \n",
       "1       10294  Watch The Exact Moment Paul Ryan Committed Pol...   \n",
       "2        3608        Kerry to go to Paris in gesture of sympathy   \n",
       "3       10142  Bernie supporters on Twitter erupt in anger ag...   \n",
       "4         875   The Battle of New York: Why This Primary Matters   \n",
       "\n",
       "                                                text label  \n",
       "0  Daniel Greenfield, a Shillman Journalism Fello...  FAKE  \n",
       "1  Google Pinterest Digg Linkedin Reddit Stumbleu...  FAKE  \n",
       "2  U.S. Secretary of State John F. Kerry said Mon...  REAL  \n",
       "3  — Kaydee King (@KaydeeKing) November 9, 2016 T...  FAKE  \n",
       "4  It's primary day in New York and front-runners...  REAL  "
      ]
     },
     "execution_count": 87,
     "metadata": {},
     "output_type": "execute_result"
    }
   ],
   "source": [
    "df=pd.read_csv('fake_or_real_news.csv')\n",
    "df.head(5)"
   ]
  },
  {
   "cell_type": "code",
   "execution_count": 84,
   "id": "884f44a0-7700-48f9-ba62-12f5e2934f19",
   "metadata": {
    "tags": []
   },
   "outputs": [
    {
     "name": "stdout",
     "output_type": "stream",
     "text": [
      "REAL    3171\n",
      "FAKE    3164\n",
      "Name: label, dtype: int64\n",
      "\n",
      "\n",
      " 0    FAKE\n",
      "1    FAKE\n",
      "2    REAL\n",
      "3    FAKE\n",
      "Name: label, dtype: object\n"
     ]
    }
   ],
   "source": [
    "x = df['title']\n",
    "y = df['label']\n",
    "\n",
    "print(y.value_counts())\n",
    "print('\\n\\n',y[:4])"
   ]
  },
  {
   "cell_type": "code",
   "execution_count": 85,
   "id": "91d221b8-ed3f-40ad-982d-376bbe42367f",
   "metadata": {
    "tags": []
   },
   "outputs": [
    {
     "name": "stdout",
     "output_type": "stream",
     "text": [
      "\n",
      "\n",
      " [1 1 0 ... 1 0 0]\n"
     ]
    }
   ],
   "source": [
    "y = y.apply(lambda x:1 if x=='FAKE' else 0).values\n",
    "print('\\n\\n',y)"
   ]
  },
  {
   "cell_type": "markdown",
   "id": "7284fca7-1a71-4c43-9592-651cb3addbb8",
   "metadata": {
    "tags": []
   },
   "source": [
    "## Countvectorizer"
   ]
  },
  {
   "cell_type": "code",
   "execution_count": 102,
   "id": "fedf18fe-0eee-4468-9c68-6b4376e3ff05",
   "metadata": {
    "tags": []
   },
   "outputs": [
    {
     "data": {
      "text/plain": [
       "array([[0, 0, 0, ..., 0, 0, 0],\n",
       "       [0, 0, 0, ..., 0, 0, 0],\n",
       "       [0, 0, 0, ..., 0, 0, 0],\n",
       "       ...,\n",
       "       [0, 0, 0, ..., 0, 0, 0],\n",
       "       [0, 0, 0, ..., 0, 0, 0],\n",
       "       [0, 0, 0, ..., 0, 0, 0]])"
      ]
     },
     "execution_count": 102,
     "metadata": {},
     "output_type": "execute_result"
    }
   ],
   "source": [
    "x_train, x_test, y_train, y_test = train_test_split(x, y, test_size=0.2, random_state=50)\n",
    "\n",
    "count_model = CountVectorizer(stop_words='english')\n",
    "\n",
    "# convert text to vectors\n",
    "count_vec_train = count_model.fit_transform(X_train)\n",
    "count_vec_test = count_model.transform(X_test)\n",
    "\n",
    "# convert countvec class values to array\n",
    "count_vec_train.toarray()"
   ]
  },
  {
   "cell_type": "code",
   "execution_count": 103,
   "id": "3f137a60-bb55-4629-a895-300a2dcdc74e",
   "metadata": {
    "tags": []
   },
   "outputs": [
    {
     "name": "stdout",
     "output_type": "stream",
     "text": [
      "['92' '93' '95' '99' '9th' 'aap' 'abadi' 'abandon' 'abandoned' 'abandons'\n",
      " 'abby' 'abc' 'abducts' 'abdullah' 'abedin' 'abilities' 'able' 'abnormal'\n",
      " 'aboard' 'abolish' 'abortion' 'abridged' 'abroad' 'abrogation' 'absence'\n",
      " 'absentee' 'absolutely' 'abstains' 'absurd' 'absurdly' 'abuse' 'abused'\n",
      " 'abusing' 'abyss' 'aca' 'accept' 'acceptable' 'accepting' 'accepts'\n",
      " 'access' 'accident' 'accidentally' 'accidents' 'accord' 'according'\n",
      " 'account' 'accounting' 'accounts' 'accurate' 'accusations' 'accuse'\n",
      " 'accused' 'accuser' 'accusers' 'accuses' 'acela' 'acheron' 'achievement'\n",
      " 'achievements' 'ackbar' 'acknowledge' 'acknowledges' 'aclu' 'acquiring'\n",
      " 'acquisition' 'acquittal' 'acquitted' 'acres' 'act' 'acted' 'acting'\n",
      " 'action' 'actions' 'activation' 'active' 'activist' 'activists'\n",
      " 'activities' 'activity' 'actor' 'actual' 'actually' 'acupuncture' 'ad'\n",
      " 'adamantly' 'adams' 'adapt' 'add' 'added' 'adderall' 'addicting'\n",
      " 'addiction' 'adding' 'address' 'addresses' 'adds' 'adelson' 'adequate'\n",
      " 'adhd' 'adhm']\n"
     ]
    }
   ],
   "source": [
    "print(count_model.get_feature_names_out()[200:300])"
   ]
  },
  {
   "cell_type": "code",
   "execution_count": 104,
   "id": "d21d142e-de35-4c8f-b33a-37d08d505e31",
   "metadata": {
    "tags": []
   },
   "outputs": [
    {
     "name": "stdout",
     "output_type": "stream",
     "text": [
      "The precision score is: 0.7782608695652173\n",
      "The confusion matrix is:\n",
      "\n",
      "[[539 102]\n",
      " [268 358]]\n",
      "naive GaussianNB accuracy is  71.0 %\n"
     ]
    },
    {
     "data": {
      "image/png": "[encoded data removed]",
      "text/plain": [
       "<Figure size 640x480 with 2 Axes>"
      ]
     },
     "metadata": {},
     "output_type": "display_data"
    }
   ],
   "source": [
    "gnb_model = GaussianNB()\n",
    "\n",
    "y_pred = gnb_model.fit(count_vec_train.toarray(), y_train).predict(count_vec_test.toarray())\n",
    "\n",
    "print(f'The precision score is: {precision_score(y_test, y_pred)}')\n",
    "\n",
    "print(f'The confusion matrix is:\\n\\n{confusion_matrix(y_test, y_pred)}')\n",
    "\n",
    "cm = confusion_matrix(y_test, y_pred, labels=gnb_model.classes_)\n",
    "print(\"naive GaussianNB accuracy is \",round(accuracy_score(y_test,y_pred),2)*100,\"%\")\n",
    "disp = ConfusionMatrixDisplay(confusion_matrix=cm,\n",
    "                          display_labels=['Real', 'Fake'])\n",
    "disp.plot()\n",
    "plt.show()"
   ]
  },
  {
   "cell_type": "code",
   "execution_count": 105,
   "id": "8343fa06-0626-47ba-9459-dc9b52438df9",
   "metadata": {
    "tags": []
   },
   "outputs": [
    {
     "name": "stdout",
     "output_type": "stream",
     "text": [
      "The precision score is: 0.8582230623818525\n",
      "The confusion matrix is:\n",
      "\n",
      "[[566  75]\n",
      " [172 454]]\n",
      "naive bayes accuracy is  81.0 %\n"
     ]
    },
    {
     "data": {
      "image/png": "[encoded data removed]",
      "text/plain": [
       "<Figure size 640x480 with 2 Axes>"
      ]
     },
     "metadata": {},
     "output_type": "display_data"
    }
   ],
   "source": [
    "bnb_model = BernoulliNB()\n",
    "\n",
    "y_pred = bnb_model.fit(count_vec_train.toarray(), y_train).predict(count_vec_test.toarray())\n",
    "\n",
    "print(f'The precision score is: {precision_score(y_test, y_pred)}')\n",
    "\n",
    "print(f'The confusion matrix is:\\n\\n{confusion_matrix(y_test, y_pred)}')\n",
    "\n",
    "cm = confusion_matrix(y_test, y_pred, labels=bnb_model.classes_)\n",
    "print(\"naive bayes accuracy is \",round(accuracy_score(y_test,y_pred),2)*100,\"%\")\n",
    "disp = ConfusionMatrixDisplay(confusion_matrix=cm,\n",
    "                          display_labels=['Real', 'Fake'])\n",
    "disp.plot()\n",
    "plt.show()"
   ]
  },
  {
   "cell_type": "markdown",
   "id": "e26c09ee-24e0-4290-9ecd-737446c6ec51",
   "metadata": {},
   "source": [
    "## TfidfVectorizer "
   ]
  },
  {
   "cell_type": "code",
   "execution_count": 108,
   "id": "21b3f8c6-f81d-4937-a770-8e84481eabf3",
   "metadata": {
    "tags": []
   },
   "outputs": [
    {
     "data": {
      "text/plain": [
       "array([[0., 0., 0., ..., 0., 0., 0.],\n",
       "       [0., 0., 0., ..., 0., 0., 0.],\n",
       "       [0., 0., 0., ..., 0., 0., 0.],\n",
       "       ...,\n",
       "       [0., 0., 0., ..., 0., 0., 0.],\n",
       "       [0., 0., 0., ..., 0., 0., 0.],\n",
       "       [0., 0., 0., ..., 0., 0., 0.]])"
      ]
     },
     "execution_count": 108,
     "metadata": {},
     "output_type": "execute_result"
    }
   ],
   "source": [
    "tf_model = TfidfVectorizer(stop_words='english')\n",
    "\n",
    "x_train, x_test, y_train, y_test = train_test_split(x, y, test_size=0.2, random_state=50)\n",
    "\n",
    "# convert text to vectors\n",
    "tf_vec_train = tf_model.fit_transform(X_train)\n",
    "tf_vec_test = tf_model.transform(X_test)\n",
    "\n",
    "# convert countvec class values to array\n",
    "tf_vec_train.toarray()"
   ]
  },
  {
   "cell_type": "code",
   "execution_count": 109,
   "id": "78f57196-4f7f-4fd3-8bdb-040ffa49fe5f",
   "metadata": {
    "tags": []
   },
   "outputs": [
    {
     "name": "stdout",
     "output_type": "stream",
     "text": [
      "['92' '93' '95' '99' '9th' 'aap' 'abadi' 'abandon' 'abandoned' 'abandons'\n",
      " 'abby' 'abc' 'abducts' 'abdullah' 'abedin' 'abilities' 'able' 'abnormal'\n",
      " 'aboard' 'abolish' 'abortion' 'abridged' 'abroad' 'abrogation' 'absence'\n",
      " 'absentee' 'absolutely' 'abstains' 'absurd' 'absurdly' 'abuse' 'abused'\n",
      " 'abusing' 'abyss' 'aca' 'accept' 'acceptable' 'accepting' 'accepts'\n",
      " 'access' 'accident' 'accidentally' 'accidents' 'accord' 'according'\n",
      " 'account' 'accounting' 'accounts' 'accurate' 'accusations' 'accuse'\n",
      " 'accused' 'accuser' 'accusers' 'accuses' 'acela' 'acheron' 'achievement'\n",
      " 'achievements' 'ackbar' 'acknowledge' 'acknowledges' 'aclu' 'acquiring'\n",
      " 'acquisition' 'acquittal' 'acquitted' 'acres' 'act' 'acted' 'acting'\n",
      " 'action' 'actions' 'activation' 'active' 'activist' 'activists'\n",
      " 'activities' 'activity' 'actor' 'actual' 'actually' 'acupuncture' 'ad'\n",
      " 'adamantly' 'adams' 'adapt' 'add' 'added' 'adderall' 'addicting'\n",
      " 'addiction' 'adding' 'address' 'addresses' 'adds' 'adelson' 'adequate'\n",
      " 'adhd' 'adhm']\n"
     ]
    }
   ],
   "source": [
    "print(tf_model.get_feature_names_out()[200:300])"
   ]
  },
  {
   "cell_type": "code",
   "execution_count": 110,
   "id": "0e168f12-cd04-4a72-b0a5-ce157a3f6961",
   "metadata": {
    "tags": []
   },
   "outputs": [
    {
     "name": "stdout",
     "output_type": "stream",
     "text": [
      "The precision score is: 0.74\n",
      "The confusion matrix is:\n",
      "\n",
      "[[511 130]\n",
      " [256 370]]\n",
      "naive GaussianNB accuracy is  70.0 %\n"
     ]
    },
    {
     "data": {
      "image/png": "[encoded data removed]",
      "text/plain": [
       "<Figure size 640x480 with 2 Axes>"
      ]
     },
     "metadata": {},
     "output_type": "display_data"
    }
   ],
   "source": [
    "gnb_model = GaussianNB()\n",
    "\n",
    "y_pred = gnb_model.fit(tf_vec_train.toarray(), y_train).predict(tf_vec_test.toarray())\n",
    "\n",
    "print(f'The precision score is: {precision_score(y_test, y_pred)}')\n",
    "\n",
    "print(f'The confusion matrix is:\\n\\n{confusion_matrix(y_test, y_pred)}')\n",
    "\n",
    "cm = confusion_matrix(y_test, y_pred, labels=gnb_model.classes_)\n",
    "print(\"naive GaussianNB accuracy is \",round(accuracy_score(y_test,y_pred),2)*100,\"%\")\n",
    "disp = ConfusionMatrixDisplay(confusion_matrix=cm,\n",
    "                          display_labels=['Real', 'Fake'])\n",
    "disp.plot()\n",
    "plt.show()"
   ]
  },
  {
   "cell_type": "code",
   "execution_count": 122,
   "id": "b843268e-9b3d-4906-bdc2-e6166b42da57",
   "metadata": {
    "tags": []
   },
   "outputs": [
    {
     "name": "stdout",
     "output_type": "stream",
     "text": [
      "The precision score is: 0.8582230623818525\n",
      "The confusion matrix is:\n",
      "\n",
      "[[566  75]\n",
      " [172 454]]\n",
      "naive bayes accuracy is  81.0 %\n"
     ]
    },
    {
     "data": {
      "image/png": "[encoded data removed]",
      "text/plain": [
       "<Figure size 640x480 with 2 Axes>"
      ]
     },
     "metadata": {},
     "output_type": "display_data"
    }
   ],
   "source": [
    "bnb_model = BernoulliNB()\n",
    "\n",
    "y_pred = bnb_model.fit(tf_vec_train.toarray(), y_train).predict(tf_vec_test.toarray())\n",
    "\n",
    "print(f'The precision score is: {precision_score(y_test, y_pred)}')\n",
    "\n",
    "print(f'The confusion matrix is:\\n\\n{confusion_matrix(y_test, y_pred)}')\n",
    "\n",
    "cm = confusion_matrix(y_test, y_pred, labels=bnb_model.classes_)\n",
    "print(\"naive bayes accuracy is \",round(accuracy_score(y_test,y_pred),2)*100,\"%\")\n",
    "disp = ConfusionMatrixDisplay(confusion_matrix=cm,\n",
    "                          display_labels=['Real', 'Fake'])\n",
    "disp.plot()\n",
    "plt.show()"
   ]
  },
  {
   "cell_type": "markdown",
   "id": "7c506df2-47f8-45ee-b5c8-f88443da6506",
   "metadata": {},
   "source": [
    "### Comparing the two vectorization methods: countvectorizer and tfidf"
   ]
  },
  {
   "cell_type": "code",
   "execution_count": 114,
   "id": "8d3a0b31-6801-4528-8216-2d91c32d7e2e",
   "metadata": {
    "tags": []
   },
   "outputs": [
    {
     "name": "stdout",
     "output_type": "stream",
     "text": [
      "set()\n",
      "False\n"
     ]
    }
   ],
   "source": [
    "count_df = pd.DataFrame(count_vec_train.A, columns=count_model.get_feature_names_out())\n",
    "\n",
    "tfidf_df = pd.DataFrame(tf_vec_train.A, columns=tf_model.get_feature_names_out())\n",
    "\n",
    "# Calculate the difference in columns: difference\n",
    "difference = set(count_df.columns) - set(tfidf_df.columns)\n",
    "print(difference)\n",
    "\n",
    "# Check whether the DataFrames are equal\n",
    "print(count_df.equals(tfidf_df))"
   ]
  }
 ],
 "metadata": {
  "kernelspec": {
   "display_name": "Python 3 (ipykernel)",
   "language": "python",
   "name": "python3"
  },
  "language_info": {
   "codemirror_mode": {
    "name": "ipython",
    "version": 3
   },
   "file_extension": ".py",
   "mimetype": "text/x-python",
   "name": "python",
   "nbconvert_exporter": "python",
   "pygments_lexer": "ipython3",
   "version": "3.10.6"
  }
 },
 "nbformat": 4,
 "nbformat_minor": 5
}
